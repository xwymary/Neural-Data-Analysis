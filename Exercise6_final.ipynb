{
 "cells": [
  {
   "cell_type": "markdown",
   "metadata": {},
   "source": [
    "_Neural Data Analysis_\n",
    "\n",
    "Lecturer: Prof. Dr. Philipp Berens, Dr. Alexander Ecker\n",
    "\n",
    "Tutors: Sarah Strauss, Santiago Cadena\n",
    "\n",
    "Summer term 2019\n",
    "\n",
    "Due date: 2019-06-04, 9am\n",
    "\n",
    "Name: Weiyi Xiao:{1}, Shanqian Ma:{2,3}\n",
    "\n",
    "# Exercise sheet 6\n",
    "\n"
   ]
  },
  {
   "cell_type": "code",
   "execution_count": 1,
   "metadata": {},
   "outputs": [],
   "source": [
    "import pandas as pd\n",
    "import seaborn as sns\n",
    "import matplotlib.pyplot as plt\n",
    "import matplotlib as mpl\n",
    "import numpy as np\n",
    "from scipy.stats import zipf\n",
    "from scipy.stats import poisson\n",
    "from scipy.optimize import minimize, Bounds\n",
    "mpl.rc(\"savefig\", dpi=72)\n",
    "\n",
    "import itertools\n",
    "\n",
    "sns.set_style('whitegrid')\n",
    "%matplotlib inline"
   ]
  },
  {
   "cell_type": "markdown",
   "metadata": {},
   "source": [
    "## Task: Implement entropy estimators\n",
    "\n",
    "\n"
   ]
  },
  {
   "cell_type": "markdown",
   "metadata": {},
   "source": [
    "### General framework\n",
    "\n",
    "Entropy is defined as \n",
    "\n",
    "$$\n",
    "H[p] = -\\sum_x p_x \\log p_x\n",
    "$$\n",
    "\n",
    "where $p_x = p(x=X)$. Here we assume that $X$ is a discrete random variable and that there are finitely many states $K$ that $X$ can take.\n",
    "\n",
    "We are interested in the entropy of discrete random variables, because of its relationship with mutual information:\n",
    "\n",
    "$$\n",
    "I[X|Y] = H[X] - H[X|Y]\n",
    "$$\n",
    "\n",
    "If we can estimate the entropy well, we can estimate the mutual information well. An application in neuroscience would be estimating the mutual information between a spike train modeled as a sequence of $1$s and $0$s (e.g. $(0,1,0,1,1)$) and a discrete set of stimuli.\n",
    "\n",
    "Note that a multivariate binary distribution modeling a spike train can always be mapped to a discrete univariate distribution, $\\mathbb{Z}_2 \\longrightarrow \\mathbb{Z_+}$, by interpreting each binary state $z \\in \\mathbb{Z}_2$ as its corresponding binary number and computing $f(z) = \\sum_i 2^{i} z_i$.\n",
    "\n",
    "As discussed in the lecture, the problem is that one always underestimates the true entropy of a distribution from samples. In this exercise you are meant to implement different estimators for discrete entropy and evaluate them on different discrete distributions:\n",
    "\n",
    "* Uniform distribution: $p(x=X) = \\frac{1}{K}$\n",
    "\n",
    "* \"Zipf's law\"- distribution: $p(x=X) = \\frac{1}{Z x} $, where $Z = \\sum_k 1/k$\n",
    "\n",
    "There is a really good series of blog posts about discrete entropy estimation to be found [here](http://www.nowozin.net/sebastian/blog/estimating-discrete-entropy-part-1.html), [here](http://www.nowozin.net/sebastian/blog/estimating-discrete-entropy-part-2.html) and [here](http://www.nowozin.net/sebastian/blog/estimating-discrete-entropy-part-3.html). \n",
    "\n",
    "Make sure you use binary logarithms throughout.\n"
   ]
  },
  {
   "cell_type": "markdown",
   "metadata": {},
   "source": [
    "### Implementation of the estimators\n",
    "\n",
    "Implement the\n",
    "\n",
    "* maximum likelihood estimator (1 pt)\n",
    "* miller-maddow corrected estimator (1 pt)\n",
    "* jack-knife corrected estimator (2 pt)\n",
    "* coverage adjusted estimator (1 pt).\n",
    "\n",
    "When implementing the jack-knife estimator, you may want to restrict the amount of resampling for performance reasons e.g. to 1000, even if more samples are available. By definition, $0\\log0=0$. Adapt the interfaces as needed for your implementation.\n",
    "\n",
    "In addition, implement or use one of the following more advanced estimators (1+3 pts, extra points if you use your own implementation):\n",
    "\n",
    "* [JVHW estimator](https://arxiv.org/abs/1406.6956) with code on [github](https://github.com/EEthinker/JVHW_Entropy_Estimators/tree/master/Python)\n",
    "* [Unseen estimator](http://papers.nips.cc/paper/5170-estimating-the-unseen-improved-estimators-for-entropy-and-other-properties) (includes Matlab code in Supplementary)\n",
    "* [Best Upper Bounds estimator](http://www.mitpressjournals.org/doi/abs/10.1162/089976603321780272) (Matlab code available on Ilias)\n",
    "\n",
    "For this part, you are allowed to use an existing implementation as well.\n"
   ]
  },
  {
   "cell_type": "code",
   "execution_count": 2,
   "metadata": {},
   "outputs": [],
   "source": [
    "def entropy_mle(phat):\n",
    "    '''\n",
    "    Maximum likelihood or plug-in estimator of discrete entropy\n",
    "    \n",
    "    phat:    estimate of the distribution / histogram\n",
    "    H:       entropy estimate\n",
    "    '''\n",
    "    H=-phat[phat!=0]@np.log2(phat[phat!=0])\n",
    "\n",
    "    \n",
    "    return H\n"
   ]
  },
  {
   "cell_type": "code",
   "execution_count": 3,
   "metadata": {},
   "outputs": [],
   "source": [
    "def entropy_mm(phat, n):\n",
    "    '''\n",
    "    Miller-Maddow corrected estimator of discrete entropy\n",
    "    \n",
    "    phat:    estimate of the distribution / histogram\n",
    "    n:       sample size\n",
    "    H:       entropy estimate\n",
    "    '''\n",
    "    dhat=len(phat[phat>0])\n",
    "\n",
    "    H=entropy_mle(phat)+(dhat-1)/(2*n)\n",
    "    \n",
    "    return H\n"
   ]
  },
  {
   "cell_type": "code",
   "execution_count": 4,
   "metadata": {},
   "outputs": [],
   "source": [
    "def entropy_jk(x, edges):\n",
    "    '''\n",
    "    Jack-knife corrected estimator of discrete entropy\n",
    "    \n",
    "\n",
    "    '''\n",
    "\n",
    "    S = len(x)\n",
    "    c_hat = np.histogram(x,edges)[0]\n",
    "    c_hat = c_hat[c_hat>0]\n",
    "    phat = c_hat / S\n",
    "    h_mle = entropy_mle(phat)\n",
    "    h_mle_jk = np.zeros(len(c_hat))\n",
    "    for i in range(len(c_hat)):\n",
    "        c_hat_copy = c_hat.copy()\n",
    "        c_hat_copy[i]-=1\n",
    "        phat = c_hat_copy / (S-1)\n",
    "        h_mle_jk[i] = entropy_mle(phat)\n",
    "    H_hat = np.dot(c_hat,h_mle_jk) / S\n",
    "    \n",
    "    H = S*h_mle-(S-1)*H_hat\n",
    "\n",
    "    return H"
   ]
  },
  {
   "cell_type": "code",
   "execution_count": 5,
   "metadata": {},
   "outputs": [],
   "source": [
    "def entropy_cae(phat, n):\n",
    "    '''\n",
    "    coverage-adjusted estimator of discrete entropy\n",
    "    \n",
    "    phat:    estimate of the distribution / histogram\n",
    "    n:       sample size\n",
    "    H:       entropy estimate\n",
    "    '''\n",
    "    numOnes = np.sum(phat==(1/n))\n",
    "    c = 1 - numOnes/n\n",
    "    pc=phat*c\n",
    "    h=np.zeros(len(pc!=0))\n",
    "    for i in np.where(pc!=0):\n",
    "        #print(i)\n",
    "        h[i]=-pc[i]*np.log2(pc[i])/(1-(1-pc[i])**n)\n",
    "    H=np.sum(h)\n",
    "    return H\n",
    "    \n",
    "    \n",
    "    "
   ]
  },
  {
   "cell_type": "code",
   "execution_count": 6,
   "metadata": {},
   "outputs": [],
   "source": [
    "import est_entro as ee\n",
    "from scipy.stats import randint\n",
    "def entropy_jvwh(x):\n",
    "    '''\n",
    "    JVHW estimator of discrete entropy\n",
    "\n",
    "    '''\n",
    "    H=ee.est_entro_JVHW(x)\n",
    "    \n",
    "    return H"
   ]
  },
  {
   "cell_type": "markdown",
   "metadata": {},
   "source": [
    "Try to implement the unseen estimator, but somehow it doesn't work"
   ]
  },
  {
   "cell_type": "code",
   "execution_count": 7,
   "metadata": {},
   "outputs": [],
   "source": [
    "def makeFinger(v):\n",
    "# Input: vector of integers, v \n",
    "# Output: vector of fingerprints, f where f(i) = |{j: ... |{k:v(k)=j}|=i }| \n",
    "# i.e. f(i) is the number of elements that occur exactly i ... times \n",
    "# in the vector v \n",
    "    h1 = np.bincount(v)  # bin count returns [#0, #1, #2,...]\n",
    "    f = np.bincount(h1)[1:]\n",
    "    return f"
   ]
  },
  {
   "cell_type": "code",
   "execution_count": 8,
   "metadata": {},
   "outputs": [],
   "source": [
    "def unseen(f):\n",
    "# Input: fingerprint f, where f(i) represents number of elements that \n",
    "# appear i times in a sample. Thus sum_i i*f(i) = sample size. \n",
    "# File makeFinger.m transforms a sample into the associated fingerprint. \n",
    "# \n",
    "# Compute approximation of 'histogram' of true distribution. Specifically, \n",
    "# histx(i) represents the number of domain elements that occur with \n",
    "# probability x(i). Thus sum_i x(i)*histx(i) = 1, as distributions have \n",
    "# total probability mass 1. \n",
    "# \n",
    "# return Entropy\n",
    "# An approximation of the entropy of the true distribution can be computed \n",
    "# as: Entropy = (-1)*sum(histx.*x.*log(x)) \n",
    "    k =  np.dot(f,np.arange(1,len(f)+1))  #total sample size\n",
    "    gridFactor = 1.1  # the grid of probabilities will be geometric, with this ratio. \n",
    "    alpha = .5  # the allowable discrepancy between the returned solution and the \"best\" (overfit). \n",
    "    xLPmin = 1/(k*max(10,k)) # minimum allowable probability.\n",
    "    maxLPIters = 1000  # the 'MaxIter' parameter for Matlab's 'linprog' LP solver. 2\n",
    "    x=0\n",
    "    histx = 0\n",
    "    fLP = np.zeros(len(f))\n",
    "    # Split the fingerprint into the 'dense' portion for which we \n",
    "    # solve an LP to yield the corresponding histogram, and 'sparse' \n",
    "    # portion for which we simply use the empirical histogram \n",
    "    for i in range(1,len(f)+1):\n",
    "        idx = i-1\n",
    "        if f[idx]>0:\n",
    "            wind = [max(1,i-np.ceil(np.sqrt(i)))-1,min(i+np.ceil(np.sqrt(i)),len(f))-1]\n",
    "            if sum(f[int(wind[0]):int(wind[1])+1]) < 2*np.sqrt(i):\n",
    "                    x=[x, i/k]\n",
    "                    histx=[histx,f[idx]]\n",
    "                    fLP[idx]=0\n",
    "            else:\n",
    "                    fLP[idx]=f[idx]\n",
    "\n",
    "    # If no LP portion, return the empirical histogram \n",
    "\n",
    "    if  np.where(fLP>0)[0].size >0:\n",
    "        fmax = max(np.where(fLP>0)[0])\n",
    "    else:\n",
    "        x=x[1:end]\n",
    "        histx=histx[1:end] \n",
    "        print('finish') # gai return x,histx\n",
    "\n",
    "    # Set up the first LP \n",
    "    LPmass = 1 - np.dot(x,histx)  # amount of probability mass in the LP region \n",
    "\n",
    "    zero_padding = np.zeros(int(np.ceil(np.sqrt(fmax+1))))\n",
    "    fLP=np.hstack((fLP[0:fmax+1],zero_padding))\n",
    "    szLPf=fLP.size\n",
    "\n",
    "    xLPmax = fmax/k\n",
    "    power = np.arange(int(np.ceil(np.log(xLPmax/xLPmin)/np.log(gridFactor))+1))\n",
    "    xLP=xLPmin*gridFactor**power\n",
    "    szLPx=len(xLP) \n",
    "\n",
    "    objf=np.zeros(szLPx+2*szLPf)\n",
    "    objf[szLPx::2]=1./(np.sqrt(fLP+1))  # discrepancy in ith fingerprint expectation \n",
    "    objf[szLPx+1::2]=1./(np.sqrt(fLP+1))  # weighted by 1/sqrt(f(i) + 1) \n",
    "\n",
    "    A = np.zeros((2*szLPf,szLPx+2*szLPf))\n",
    "    b = np.zeros(2*szLPf)\n",
    "\n",
    "    for i in range(szLPf): \n",
    "        A[2*i,0:szLPx]=poisson.pmf(i+1,k*xLP) \n",
    "        A[2*i+1,0:szLPx]=(-1)*A[2*i,0:szLPx] \n",
    "        A[2*i,szLPx+2*i]=-1\n",
    "        A[2*i+1,szLPx+2*i+1]=-1\n",
    "        b[2*i]=fLP[i]\n",
    "        b[2*i+1]=-fLP[i] \n",
    "\n",
    "    Aeq = np.zeros(szLPx+2*szLPf)\n",
    "    Aeq[0:szLPx]=xLP; \n",
    "    beq = LPmass\n",
    "\n",
    "    for i in range(szLPx):\n",
    "        A[:,i]=A[:,i]/xLP[i]; #rescaling for better conditioning \n",
    "        Aeq[i]=Aeq[i]/xLP[i]; \n",
    "\n",
    "    # res = linprog(objf, A, b, Aeq, beq, options={'maxiter':maxLPIters}), # can't use it because it only support 2D vector\n",
    "    func = lambda x: np.dot(objf, x)\n",
    "    cons=[]\n",
    "    for i in range(b.size):\n",
    "        cons.append({'type': 'ineq', 'fun' : lambda x: -np.dot(A[i,:], x) + b[i]})\n",
    "\n",
    "    cons.append({'type': 'eq', 'fun' : lambda x: np.dot(Aeq, x) - beq})\n",
    "    x0=np.zeros(szLPx+2*szLPf)\n",
    "    lb = np.zeros(szLPx+2*szLPf)\n",
    "    ub = np.inf*np.ones(szLPx+2*szLPf)\n",
    "    bnds = Bounds(lb,ub)\n",
    "    res = minimize(func, x0, method='SLSQP', bounds=bnds, constraints=cons,options={'maxiter':maxLPIters})\n",
    "\n",
    "    sol = res.x\n",
    "    fval = res.fun\n",
    "    exitflag = res.status\n",
    "    if exitflag ==9:\n",
    "        print('maximum number of iterations reached--try increasing maxLPIters')\n",
    "\n",
    "    if (exitflag !=0) & (exitflag !=9):\n",
    "        print('LP1 solution was not found, still solving LP2 anyway...' )\n",
    "        print(exitflag) \n",
    "\n",
    "    # Solve the 2nd LP, which minimizes support size subject to incurring at most \n",
    "    # alpha worse objective function value (of the objective function in the \n",
    "    # previous LP). \n",
    "    objf2=0*objf\n",
    "\n",
    "    objf2[0:szLPx] = 1 \n",
    "    A2=np.vstack((A,objf))  # ensure at most alpha worse obj value \n",
    "    b2=np.hstack((b, fval+alpha))  # than solution of previous LP \n",
    "\n",
    "    for i in range(szLPx): \n",
    "        objf2[i]=objf2[i]/xLP[i]  #rescaling for better conditioning \n",
    "\n",
    "    func2 = lambda x: np.dot(objf2, x)\n",
    "    cons=[]\n",
    "    for i in range(b2.size):\n",
    "        cons.append({'type': 'ineq', 'fun' : lambda x: np.dot(A2[i,:], x) - b2[i]})\n",
    "\n",
    "    cons.append({'type': 'eq', 'fun' : lambda x: np.dot(Aeq, x) - beq})\n",
    "    x0 = sol\n",
    "    res2 = minimize(func2, x0, method='SLSQP', bounds=bnds, constraints=cons,options={'maxiter':maxLPIters})\n",
    "    sol2 = res2.x\n",
    "    exitflag2 = res2.status\n",
    "    if exitflag2!=0: \n",
    "        print('LP2 solution was not found') \n",
    "        print(exitflag2) \n",
    "\n",
    "    #append LP solution to empirical portion of histogram \n",
    "    sol2[0:szLPx]= sol2[0:szLPx]/ xLP  #removing the scaling \n",
    "    x=np.hstack((np.asarray(x),xLP))\n",
    "    histx=np.hstack((np.asarray(histx),xLP))\n",
    "    x = np.sort(x)\n",
    "    ind = np.argsort(x)\n",
    "    histx = histx[ind]\n",
    "    x=x[histx>0]\n",
    "    histx=histx[histx>0]\n",
    "\n",
    "    estimatedEntropy = -np.dot(histx,np.multiply(x,np.log2(x)))"
   ]
  },
  {
   "cell_type": "code",
   "execution_count": 9,
   "metadata": {},
   "outputs": [
    {
     "name": "stdout",
     "output_type": "stream",
     "text": [
      "LP2 solution was not found\n",
      "8\n",
      "None\n"
     ]
    }
   ],
   "source": [
    "samp=np.random.choice(1024,100)\n",
    "f = makeFinger(samp)\n",
    "estimatedEntropy = unseen(f)\n",
    "print(estimatedEntropy)"
   ]
  },
  {
   "cell_type": "markdown",
   "metadata": {},
   "source": [
    "### Uniform distribution"
   ]
  },
  {
   "cell_type": "code",
   "execution_count": 10,
   "metadata": {},
   "outputs": [
    {
     "name": "stdout",
     "output_type": "stream",
     "text": [
      "10.0\n"
     ]
    }
   ],
   "source": [
    "D = 10\n",
    "N = 2**D\n",
    "\n",
    "p = 1/N * np.ones(N)   # true distribution\n",
    "\n",
    "H = - np.sum(p * np.log2(p))  # true entropy\n",
    "print(H)"
   ]
  },
  {
   "cell_type": "markdown",
   "metadata": {},
   "source": [
    "Sample from the uniform distribution using sample sizes of 100 and 10000. Plot the true distribution and the sampled distributions. What do you notice? (1 pt)"
   ]
  },
  {
   "cell_type": "markdown",
   "metadata": {},
   "source": [
    "#### Answer: the distribution with size=100 is too sparse to simulate the true distribution. For the number appeared once in samples, the probability is 0.01 which is much larger than the true probability 1/1024; and for the number did't appear in samples, the probability is 0 which is much smaller than true probability. While for the distribution with size 10000, the probability is more balanced and close to the true probability."
   ]
  },
  {
   "cell_type": "code",
   "execution_count": 11,
   "metadata": {},
   "outputs": [
    {
     "data": {
      "image/png": "[encoded data removed]",
      "text/plain": [
       "<Figure size 1152x288 with 2 Axes>"
      ]
     },
     "metadata": {
      "needs_background": "light"
     },
     "output_type": "display_data"
    }
   ],
   "source": [
    "n_sample1=100\n",
    "n_sample2=10**4\n",
    "U_distr1=np.random.choice(N,n_sample1)\n",
    "U_distr2=np.random.choice(N,n_sample2)\n",
    "edges = np.arange(-0.5, N, 1)\n",
    "\n",
    "plt.figure(figsize=(16, 4))\n",
    "plt.subplot(1,2,1)\n",
    "#sns.distplot(U_distr1,bins=20,kde=False,norm_hist=True,label='Sampled distribution')\n",
    "plt.hist(U_distr1,bins=edges,density=True,alpha=0.6,edgecolor='C0',label='Sampled distribution')  #'C0' is the default blue #1f77b4\n",
    "plt.plot(np.arange(0,N),p,color='r',label='True distribution')\n",
    "plt.xlabel('X')\n",
    "plt.ylabel('probability')\n",
    "plt.title('Sample size = 100')\n",
    "plt.legend()\n",
    "\n",
    "plt.subplot(1,2,2)\n",
    "#sns.distplot(U_distr2,bins=20,kde=False,norm_hist=True,label='Sampled distribution')\n",
    "plt.hist(U_distr2,bins=edges,density=True,alpha=0.6,edgecolor='C0',label='Sampled distribution')  \n",
    "plt.plot(np.arange(0,N),p,color='r',label='True distribution')\n",
    "plt.xlabel('X')\n",
    "plt.ylabel('probability')\n",
    "plt.title('Sample size = 10000')\n",
    "plt.legend()\n",
    "plt.show()"
   ]
  },
  {
   "cell_type": "markdown",
   "metadata": {},
   "source": [
    "Use the framework below to generate samples of different size (logarithmically spaced between 10 and 100000) and evaluate the different entropy estimators for multiple runs."
   ]
  },
  {
   "cell_type": "code",
   "execution_count": 12,
   "metadata": {},
   "outputs": [
    {
     "name": "stdout",
     "output_type": "stream",
     "text": [
      "sample size for this loop is:  10.0\n",
      "sample size for this loop is:  28.0\n",
      "sample size for this loop is:  77.0\n",
      "sample size for this loop is:  215.0\n",
      "sample size for this loop is:  599.0\n",
      "sample size for this loop is:  1668.0\n",
      "sample size for this loop is:  4642.0\n",
      "sample size for this loop is:  12915.0\n",
      "sample size for this loop is:  35938.0\n",
      "sample size for this loop is:  100000.0\n"
     ]
    }
   ],
   "source": [
    "sampleSz = np.round(np.logspace(1,5,num=10))\n",
    "nRuns = 30\n",
    "\n",
    "edges = np.arange(-0.5, N, 1)\n",
    "\n",
    "h_mle = np.zeros((len(sampleSz),nRuns))\n",
    "h_mm = np.zeros((len(sampleSz),nRuns))\n",
    "h_jk = np.zeros((len(sampleSz),nRuns))\n",
    "h_cae = np.zeros((len(sampleSz),nRuns))\n",
    "h_jvhw = np.zeros((len(sampleSz),nRuns))\n",
    "\n",
    "for i, S in enumerate(sampleSz):\n",
    "    print('sample size for this loop is: ' ,S)\n",
    "    for j in np.arange(nRuns):\n",
    "        \n",
    "        # add sampling here...        \n",
    "        x=np.random.choice(N,int(S))\n",
    "        \n",
    "        phat = np.histogram(x,edges)[0]\n",
    "        phat = phat / S\n",
    "        \n",
    "        h_mle[i,j] = entropy_mle(phat)\n",
    "        h_mm[i,j] = entropy_mm(phat, S)\n",
    "        h_cae[i,j] = entropy_cae(phat, S)\n",
    "        h_jk[i,j] = entropy_jk(x, edges)\n",
    "        h_jvhw[i,j] = entropy_jvwh(x)\n",
    "\n"
   ]
  },
  {
   "cell_type": "markdown",
   "metadata": {},
   "source": [
    "Plot the resulting average estimate of the entropy for each of the estimators. Which is best? If you implemented everything correctly, this plot should roughly look like in the lecture."
   ]
  },
  {
   "cell_type": "code",
   "execution_count": 13,
   "metadata": {},
   "outputs": [
    {
     "data": {
      "text/plain": [
       "<matplotlib.legend.Legend at 0x1b1bee56248>"
      ]
     },
     "execution_count": 13,
     "metadata": {},
     "output_type": "execute_result"
    },
    {
     "data": {
      "image/png": "[encoded data removed]",
      "text/plain": [
       "<Figure size 432x288 with 1 Axes>"
      ]
     },
     "metadata": {
      "needs_background": "light"
     },
     "output_type": "display_data"
    }
   ],
   "source": [
    "plt.semilogx(sampleSz,np.mean(h_mle, axis=1))\n",
    "\n",
    "plt.semilogx(sampleSz,np.mean(h_mm, axis=1))\n",
    "plt.semilogx(sampleSz, np.mean(h_cae, axis=1))\n",
    "plt.semilogx(sampleSz,np.mean(h_jk, axis=1))\n",
    "plt.semilogx(sampleSz,np.mean(h_jvhw, axis=1))\n",
    "\n",
    "\n",
    "plt.legend(['mle', 'mm',  'cae', 'jk', 'jvhw'])\n"
   ]
  },
  {
   "cell_type": "markdown",
   "metadata": {},
   "source": [
    "jvhw is the best for small sample size(i.e.<100), jvhw and cae have similar performance when sample size is between 100 and 10000, all estimators converge to the true entropy for large sample size (i.e. >10000)"
   ]
  },
  {
   "cell_type": "markdown",
   "metadata": {},
   "source": [
    "### Zipf distribution\n",
    "\n",
    "[Zipf's law ](https://en.wikipedia.org/wiki/Zipf%27s_law) refers to a family of power law like distributions for which $p_k \\sim 1/k^d$. We will simply use $d=1$ here.   \n",
    "\n",
    "Adapt the framework above to sample from a Zipf distribution and evaluate the estimators for this case. Are there differences to the uniform case? (3 pts)"
   ]
  },
  {
   "cell_type": "markdown",
   "metadata": {},
   "source": [
    "#### 1. In Zipf's distribution, smaller value (in the domain) have larger probability. 2. For sample size between 100-1000, jvhw and cae have similar performance when approximating the uniform distibution, but for the Zipf's distribution jvhw is better that cae. 3. All estimators converge faster (converged at a samller sample size) in the uniform case."
   ]
  },
  {
   "cell_type": "code",
   "execution_count": 14,
   "metadata": {},
   "outputs": [
    {
     "name": "stdout",
     "output_type": "stream",
     "text": [
      "7.510649703297878\n"
     ]
    },
    {
     "data": {
      "image/png": "[encoded data removed]",
      "text/plain": [
       "<Figure size 432x288 with 1 Axes>"
      ]
     },
     "metadata": {
      "needs_background": "light"
     },
     "output_type": "display_data"
    }
   ],
   "source": [
    "D = 10\n",
    "N = 2**D\n",
    "\n",
    "p = 1/(np.arange(0,N)+1)    # true distribution\n",
    "s=np.sum(p)\n",
    "p = p/np.sum(p)\n",
    "\n",
    "plt.plot(np.arange(0,N),p)\n",
    "H = - np.sum(p * np.log2(p))  # true entropy\n",
    "print(H)\n"
   ]
  },
  {
   "cell_type": "markdown",
   "metadata": {},
   "source": [
    "Sample from the Zipf distribution using sample sizes of 100 and 10000. In this case, the function `random.choice` is very helpful for sampling. Plot the true distribution and the sampled distributions. What do you notice? (1 pt)"
   ]
  },
  {
   "cell_type": "markdown",
   "metadata": {},
   "source": [
    "#### when sample size = 10000, the sampled distribution is a good proximation of the true distribution.When sample size = 100, only a rough trend of the true distribution is observed (higher probability for small x, lower probability for large x). And again the probability value from the sampled distribution is constrained by the sample size, so it's not a good proximation of the true distibution."
   ]
  },
  {
   "cell_type": "code",
   "execution_count": 15,
   "metadata": {},
   "outputs": [
    {
     "data": {
      "image/png": "[encoded data removed]",
      "text/plain": [
       "<Figure size 864x288 with 2 Axes>"
      ]
     },
     "metadata": {
      "needs_background": "light"
     },
     "output_type": "display_data"
    }
   ],
   "source": [
    "zipf1=np.random.choice(N, 100, p=list(p))\n",
    "zipf2=np.random.choice(N, 10000, p=list(p))\n",
    "edges = np.arange(-0.5, N, 1)\n",
    "\n",
    "plt.figure(figsize=(12, 4))\n",
    "c = mpl.colors.colorConverter.to_rgba('C1', alpha=0.6)\n",
    "plt.subplot(1,2,1)\n",
    "plt.plot(np.arange(0,N),p,label='true distribution')\n",
    "plt.hist(zipf1,bins=edges,density=True,alpha=0.6,edgecolor=c,label='Sampled distribution')\n",
    "plt.xlabel('X')\n",
    "plt.ylabel('probability')\n",
    "plt.title('Sample size = 100')\n",
    "plt.legend()\n",
    "\n",
    "plt.subplot(1,2,2)\n",
    "plt.plot(np.arange(0,N),p,label='true distribution')\n",
    "plt.hist(zipf2,bins=edges,density=True,alpha=0.6,edgecolor=c,label='Sampled distribution')\n",
    "plt.xlabel('X')\n",
    "plt.title('Sample size = 10000')\n",
    "plt.legend()\n",
    "plt.show()"
   ]
  },
  {
   "cell_type": "markdown",
   "metadata": {},
   "source": [
    "Use the framework below to generate samples of different size (logarithmically spaced between 10 and 100000) and evaluate the different entropy estimators for multiple runs."
   ]
  },
  {
   "cell_type": "code",
   "execution_count": 16,
   "metadata": {},
   "outputs": [],
   "source": [
    "sampleSz = np.round(np.logspace(1,5,num=10))\n",
    "nRuns = 30\n",
    "\n",
    "edges = np.arange(-0.5, N, 1)\n",
    "\n",
    "h_mle = np.zeros((len(sampleSz),nRuns))\n",
    "h_mm = np.zeros((len(sampleSz),nRuns))\n",
    "h_jk = np.zeros((len(sampleSz),nRuns))\n",
    "h_cae = np.zeros((len(sampleSz),nRuns))\n",
    "h_jvhw = np.zeros((len(sampleSz),nRuns))\n",
    "\n",
    "for i, S in enumerate(sampleSz):\n",
    "    for j in np.arange(nRuns):\n",
    "        \n",
    "        # add sampling here\n",
    "        x=np.random.choice(1024, int(S), p=list(p))\n",
    "        \n",
    "        phat = np.histogram(x,edges)[0]\n",
    "        \n",
    "        phat = phat / S\n",
    "        \n",
    "        h_mle[i,j] = entropy_mle(phat)\n",
    "        h_mm[i,j] = entropy_mm(phat, S)\n",
    "        h_cae[i,j] = entropy_cae(phat, S)\n",
    "        h_jk[i,j] = entropy_jk(x, edges)\n",
    "        h_jvhw[i,j] = entropy_jvwh(x)\n",
    "        \n"
   ]
  },
  {
   "cell_type": "markdown",
   "metadata": {},
   "source": [
    "Plot resulting average estimate of the entropy for each of the estimators. Which is best? If you implemented everything correctly, this plot should roughly look like in the lecture."
   ]
  },
  {
   "cell_type": "code",
   "execution_count": 17,
   "metadata": {
    "scrolled": true
   },
   "outputs": [
    {
     "data": {
      "text/plain": [
       "<matplotlib.legend.Legend at 0x1b1befe7688>"
      ]
     },
     "execution_count": 17,
     "metadata": {},
     "output_type": "execute_result"
    },
    {
     "data": {
      "image/png": "[encoded data removed]",
      "text/plain": [
       "<Figure size 432x288 with 1 Axes>"
      ]
     },
     "metadata": {
      "needs_background": "light"
     },
     "output_type": "display_data"
    }
   ],
   "source": [
    "plt.semilogx(sampleSz,np.mean(h_mle, axis=1))\n",
    "\n",
    "plt.semilogx(sampleSz,np.mean(h_mm, axis=1))\n",
    "plt.semilogx(sampleSz, np.mean(h_cae, axis=1))\n",
    "plt.semilogx(sampleSz,np.mean(h_jk, axis=1))\n",
    "plt.semilogx(sampleSz,np.mean(h_jvhw, axis=1))\n",
    "\n",
    "\n",
    "plt.legend(['mle', 'mm',  'cae', 'jk', 'jvhw'])\n"
   ]
  },
  {
   "cell_type": "code",
   "execution_count": null,
   "metadata": {},
   "outputs": [],
   "source": []
  }
 ],
 "metadata": {
  "anaconda-cloud": {},
  "kernelspec": {
   "display_name": "Python 3",
   "language": "python",
   "name": "python3"
  },
  "language_info": {
   "codemirror_mode": {
    "name": "ipython",
    "version": 3
   },
   "file_extension": ".py",
   "mimetype": "text/x-python",
   "name": "python",
   "nbconvert_exporter": "python",
   "pygments_lexer": "ipython3",
   "version": "3.8.3"
  },
  "nteract": {
   "version": "0.13.0"
  }
 },
 "nbformat": 4,
 "nbformat_minor": 1
}
